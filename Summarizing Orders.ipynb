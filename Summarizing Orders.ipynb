{
 "cells": [
  {
   "cell_type": "code",
   "execution_count": 39,
   "metadata": {},
   "outputs": [],
   "source": [
    "# This Python file uses the following encoding: utf-8\n",
    "# -*- coding: utf-8 -*-\n",
    "\n",
    "import xlwt \n",
    "from xlwt import Workbook \n",
    "import string\n",
    "\n",
    "# Workbook is created \n",
    "wb = Workbook(encoding=\"utf-8\") \n",
    "  \n",
    "# Add a sheet. \n",
    "sheet1 = wb.add_sheet('주문서') \n",
    "\n",
    "di = dict(zip(string.ascii_letters,[ord(c)%32 for c in string.ascii_letters]))\n",
    "# print(di)"
   ]
  },
  {
   "cell_type": "code",
   "execution_count": 40,
   "metadata": {
    "scrolled": true
   },
   "outputs": [],
   "source": [
    "order_file_name = \"order200105\"\n",
    "product = dict()\n",
    "\n",
    "with open(order_file_name + \".txt\", encoding=\"utf-8\") as inp:\n",
    "    for p in inp.read().replace(\"+\", ' ').split():\n",
    "        loc = p.find(\"/\")\n",
    "        new_p = p[loc+1:] + p[:loc]\n",
    "        if (new_p in product):\n",
    "            product[new_p] += 1\n",
    "        else:\n",
    "            product[new_p] = 1\n"
   ]
  },
  {
   "cell_type": "code",
   "execution_count": 41,
   "metadata": {},
   "outputs": [],
   "source": [
    "all_p = list()\n",
    "one_p = dict()\n",
    "prev_code = ''\n",
    "\n",
    "for p, v in sorted(product.items(), key = lambda x: x[0]):\n",
    "    # print(p, v)\n",
    "    cur_code = p[0]\n",
    "    if prev_code == '':\n",
    "        prev_code = cur_code\n",
    "    if cur_code != prev_code:\n",
    "        all_p.append(one_p)\n",
    "        one_p = dict()\n",
    "        prev_code = cur_code\n",
    "    one_p[p] = v\n",
    "# print(all_p)"
   ]
  },
  {
   "cell_type": "code",
   "execution_count": 42,
   "metadata": {},
   "outputs": [],
   "source": [
    "row = 0\n",
    "col = -1\n",
    "prev_col = ''\n",
    "\n",
    "for item in all_p:\n",
    "    # print(item)\n",
    "    for p, v in sorted(item.items(), key = lambda x: x[1], reverse = True):\n",
    "        col_val = p[0]\n",
    "        if col_val != prev_col:\n",
    "            row = 1\n",
    "            col += 2\n",
    "            prev_col = col_val\n",
    "            sheet1.write(0, col, col_val.upper())\n",
    "            sheet1.write(1, col, '품목명')\n",
    "            sheet1.write(1, col + 1, '수량')\n",
    "        # print(col_val, p, v)\n",
    "        row += 1\n",
    "        sheet1.write(row, col, p[1:]) \n",
    "        sheet1.write(row, col + 1, v)\n",
    "\n",
    "wb.save(order_file_name + \".xls\") "
   ]
  },
  {
   "cell_type": "code",
   "execution_count": null,
   "metadata": {},
   "outputs": [],
   "source": []
  }
 ],
 "metadata": {
  "kernelspec": {
   "display_name": "Python 3",
   "language": "python",
   "name": "python3"
  },
  "language_info": {
   "codemirror_mode": {
    "name": "ipython",
    "version": 3
   },
   "file_extension": ".py",
   "mimetype": "text/x-python",
   "name": "python",
   "nbconvert_exporter": "python",
   "pygments_lexer": "ipython3",
   "version": "3.7.6"
  }
 },
 "nbformat": 4,
 "nbformat_minor": 2
}
