{
 "cells": [
  {
   "cell_type": "code",
   "execution_count": 100,
   "metadata": {},
   "outputs": [],
   "source": [
    "import xlwt \n",
    "from xlwt import Workbook \n",
    "import string\n",
    "\n",
    "order_file_name = \"order200105\""
   ]
  },
  {
   "cell_type": "code",
   "execution_count": 102,
   "metadata": {
    "scrolled": true
   },
   "outputs": [],
   "source": [
    "wb = Workbook(encoding=\"utf-8\") \n",
    "sheet1 = wb.add_sheet('주문서')\n",
    "\n",
    "product = dict()\n",
    "\n",
    "with open(order_file_name + \".txt\", encoding=\"utf-8\") as inp:    #  copied from ~~~ and modified\n",
    "    for p in inp.read().replace(\"+\", ' ').split():\n",
    "        # print(p)\n",
    "        loc = p.find(\"/\")\n",
    "        new_p = p[loc+1:] + \" \" + p[:loc]\n",
    "        # print(new_p)\n",
    "        if (new_p in product):\n",
    "            product[new_p] += 1\n",
    "        else:\n",
    "            product[new_p] = 1\n",
    "            \n",
    "all_p = list()\n",
    "one_p = dict()\n",
    "prev_code = ''\n",
    "\n",
    "for p, v in sorted(product.items(), key = lambda x: x[0]):   # copied from ~~~ and modified\n",
    "    # print(p, v)\n",
    "    cur_code = p.split()[0]\n",
    "    if prev_code == '':\n",
    "        prev_code = cur_code\n",
    "    if cur_code != prev_code:\n",
    "        all_p.append(one_p)\n",
    "        one_p = dict()\n",
    "        prev_code = cur_code\n",
    "    one_p[p] = v\n",
    "all_p.append(one_p)\n",
    "\n",
    "row = 0\n",
    "col = -1\n",
    "prev_col = ''\n",
    "\n",
    "for item in all_p:\n",
    "    # print(item)\n",
    "    for p, v in sorted(item.items(), key = lambda x: x[1], reverse = True):   # copied from ~~~ and modified\n",
    "        col_val = p.split()[0]\n",
    "        if col_val != prev_col:\n",
    "            row = 1\n",
    "            col += 2\n",
    "            prev_col = col_val\n",
    "            sheet1.write(0, col, col_val.upper())\n",
    "            sheet1.write(1, col, '품목명')\n",
    "            sheet1.write(1, col + 1, '수량')\n",
    "        # print(col_val, p, v)\n",
    "        row += 1\n",
    "        sheet1.write(row, col, p.split()[1]) \n",
    "        sheet1.write(row, col + 1, v)\n",
    "\n",
    "wb.save(order_file_name + \".xls\") "
   ]
  },
  {
   "cell_type": "code",
   "execution_count": null,
   "metadata": {},
   "outputs": [],
   "source": []
  }
 ],
 "metadata": {
  "kernelspec": {
   "display_name": "Python 3",
   "language": "python",
   "name": "python3"
  },
  "language_info": {
   "codemirror_mode": {
    "name": "ipython",
    "version": 3
   },
   "file_extension": ".py",
   "mimetype": "text/x-python",
   "name": "python",
   "nbconvert_exporter": "python",
   "pygments_lexer": "ipython3",
   "version": "3.7.6"
  }
 },
 "nbformat": 4,
 "nbformat_minor": 2
}
